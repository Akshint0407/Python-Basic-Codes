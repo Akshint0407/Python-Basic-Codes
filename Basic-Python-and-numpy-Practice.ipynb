{
  "nbformat": 4,
  "nbformat_minor": 0,
  "metadata": {
    "colab": {
      "provenance": [],
      "authorship_tag": "ABX9TyPl4Iio3qGNClqBXjkhW1mP",
      "include_colab_link": true
    },
    "kernelspec": {
      "name": "python3",
      "display_name": "Python 3"
    },
    "language_info": {
      "name": "python"
    }
  },
  "cells": [
    {
      "cell_type": "markdown",
      "metadata": {
        "id": "view-in-github",
        "colab_type": "text"
      },
      "source": [
        "<a href=\"https://colab.research.google.com/github/Akshint0407/Python-Basic-Codes/blob/main/Basic-Python-and-numpy-Practice.ipynb\" target=\"_parent\"><img src=\"https://colab.research.google.com/assets/colab-badge.svg\" alt=\"Open In Colab\"/></a>"
      ]
    },
    {
      "cell_type": "code",
      "execution_count": null,
      "metadata": {
        "id": "meuYlxlxTmUE"
      },
      "outputs": [],
      "source": [
        "import numpy as np\n",
        "a= np.array([1,2,3,4,5,6,7,8,9])"
      ]
    },
    {
      "cell_type": "code",
      "source": [
        "b = (0,1,2,3,4,5,6,7,8)"
      ],
      "metadata": {
        "id": "K58onl6dTwH9"
      },
      "execution_count": null,
      "outputs": []
    },
    {
      "cell_type": "code",
      "source": [
        "b[3:5]"
      ],
      "metadata": {
        "colab": {
          "base_uri": "https://localhost:8080/"
        },
        "id": "gxDC_pfET0T2",
        "outputId": "4456fbad-efca-4f6a-9604-29d7183ae59c"
      },
      "execution_count": null,
      "outputs": [
        {
          "output_type": "execute_result",
          "data": {
            "text/plain": [
              "(3, 4)"
            ]
          },
          "metadata": {},
          "execution_count": 10
        }
      ]
    },
    {
      "cell_type": "code",
      "source": [
        "b[:]"
      ],
      "metadata": {
        "colab": {
          "base_uri": "https://localhost:8080/"
        },
        "id": "RfNajjHkU85s",
        "outputId": "3ff4b86e-6260-4620-f31e-b99e867196b6"
      },
      "execution_count": null,
      "outputs": [
        {
          "output_type": "execute_result",
          "data": {
            "text/plain": [
              "(0, 1, 2, 3, 4, 5, 6, 7, 8)"
            ]
          },
          "metadata": {},
          "execution_count": 11
        }
      ]
    },
    {
      "cell_type": "code",
      "source": [
        "a[4:9:2] = 100"
      ],
      "metadata": {
        "id": "Sx34PKG-VBfn"
      },
      "execution_count": null,
      "outputs": []
    },
    {
      "cell_type": "code",
      "source": [
        "a\n"
      ],
      "metadata": {
        "colab": {
          "base_uri": "https://localhost:8080/"
        },
        "id": "6woS6cDfVPCn",
        "outputId": "5dced773-de11-436c-8953-22a98f6e6ce5"
      },
      "execution_count": null,
      "outputs": [
        {
          "output_type": "execute_result",
          "data": {
            "text/plain": [
              "array([  1,   2,   3,   4, 100,   6, 100,   8, 100])"
            ]
          },
          "metadata": {},
          "execution_count": 14
        }
      ]
    },
    {
      "cell_type": "code",
      "source": [
        "import random as r"
      ],
      "metadata": {
        "id": "FlzwIuaBVUlp"
      },
      "execution_count": null,
      "outputs": []
    },
    {
      "cell_type": "code",
      "source": [
        "a = np.random.randn(5,2)"
      ],
      "metadata": {
        "id": "1XZOPISxdZhy"
      },
      "execution_count": null,
      "outputs": []
    },
    {
      "cell_type": "code",
      "source": [],
      "metadata": {
        "id": "9NktpQirdei1"
      },
      "execution_count": null,
      "outputs": []
    },
    {
      "cell_type": "code",
      "source": [
        "first_name = str(\"Akshint\")\n",
        "last_name = str(\"Varma\")\n",
        "print(\"My name is\",first_name,last_name)"
      ],
      "metadata": {
        "colab": {
          "base_uri": "https://localhost:8080/"
        },
        "id": "ugnEC3-fSKim",
        "outputId": "5a122cfb-b456-40db-e873-0a3edbd7aaf0"
      },
      "execution_count": null,
      "outputs": [
        {
          "output_type": "stream",
          "name": "stdout",
          "text": [
            "My name is Akshint Varma\n"
          ]
        }
      ]
    },
    {
      "cell_type": "code",
      "source": [
        "  x = 7\n",
        "  if x < 10:\n",
        "    print('Less than 10')\n",
        "    if x > 5:\n",
        "        print('Greater than 5')\n",
        "    else:\n",
        "        print('Less than or equal to 5')"
      ],
      "metadata": {
        "colab": {
          "base_uri": "https://localhost:8080/"
        },
        "id": "G_EdjM_-SKgA",
        "outputId": "95a0bbad-de70-49b1-cb53-21c52e446fa3"
      },
      "execution_count": null,
      "outputs": [
        {
          "output_type": "stream",
          "name": "stdout",
          "text": [
            "Less than 10\n",
            "Greater than 5\n"
          ]
        }
      ]
    },
    {
      "cell_type": "code",
      "source": [
        "while(True):\n",
        "  bike_price = int(input(\"Enter the price of the bike\"))\n",
        "  if bike_price > 100000:\n",
        "      print(\"15% road tax to be paid\")\n",
        "  elif bike_price > 50000 and bike_price <= 100000:\n",
        "      print(\"10% road tax to be paid\")\n",
        "  elif bike_price <= 50000:\n",
        "      print(\"5% road tax to be paid\")\n",
        "    else:\n",
        "      print(\"Error!\")"
      ],
      "metadata": {
        "id": "lbwmYoTISKdN"
      },
      "execution_count": null,
      "outputs": []
    },
    {
      "cell_type": "code",
      "source": [
        "age = int(input(\"Enter your age: \"))\n",
        "gender = input(\"Enter M or F: \")\n",
        "if age >= 18 and age < 30:\n",
        "    if gender == 'M':\n",
        "        print(\"You are a young male with Daily Wages = 700\")\n",
        "    else:\n",
        "        print(\"You are young female with daily wage = 750\")\n",
        "if age >= 30 and age <= 40:\n",
        "    if gender == 'M':\n",
        "        print(\"You are a middle aged male with daily wage = 800\")\n",
        "    else:\n",
        "        print(\"You are a middle aged female with daily wage = 850\")"
      ],
      "metadata": {
        "colab": {
          "base_uri": "https://localhost:8080/"
        },
        "id": "0IDVqcr3SKaY",
        "outputId": "d6a7ca82-5a10-48ad-9947-5a586fed172e"
      },
      "execution_count": null,
      "outputs": [
        {
          "output_type": "stream",
          "name": "stdout",
          "text": [
            "Enter your age: 20\n",
            "Enter M or FM\n",
            "You are a young male with Daily Wages = 700\n"
          ]
        }
      ]
    },
    {
      "cell_type": "code",
      "source": [
        "while(True):\n",
        "  leap_year = int(input(\"Enter the year: \"))\n",
        "  if leap_year % 4 == 0:\n",
        "    if leap_year % 100 == 0:\n",
        "      if leap_year % 400 == 0:\n",
        "        print(\"It is a leap year\")\n",
        "      else:\n",
        "        print(\"It is not a leap year\")\n",
        "    else:\n",
        "      print(\"It is a leap year\")\n",
        "  else:\n",
        "    print(\"It is not a leap year\")"
      ],
      "metadata": {
        "id": "wuKkyjRHSKXt"
      },
      "execution_count": null,
      "outputs": []
    },
    {
      "cell_type": "code",
      "source": [
        "days = int(input(\"Enter the number of days: \"))\n",
        "if days <= 5:\n",
        "  print(\"Cost per day :\", days * 2)\n",
        "elif days <= 10 and days >= 6:\n",
        "  print(\"Cost per day :\", days * 3)\n",
        "elif days <= 15 and days >= 11:\n",
        "  print(\"Cost per day :\", days * 4)\n",
        "elif days >= 16:\n",
        "  print(\"Cost per day :\", days * 5)\n"
      ],
      "metadata": {
        "id": "FjP8rI_YdhQw",
        "colab": {
          "base_uri": "https://localhost:8080/"
        },
        "outputId": "1cbb26f6-68af-4922-eedb-43e7629a062a"
      },
      "execution_count": null,
      "outputs": [
        {
          "output_type": "stream",
          "name": "stdout",
          "text": [
            "Enter the number of days: 3\n",
            "Cost per day : 6\n"
          ]
        }
      ]
    },
    {
      "cell_type": "code",
      "source": [
        "price_1=0\n",
        "price_3=0\n",
        "units = int(input(\"Enter the no of electric units: \"))\n",
        "if units <= 100:\n",
        "  print(\"Free!\")\n",
        "  price = 0\n",
        "  total_bill = 0\n",
        "elif units > 100 and units <= 300:\n",
        "  print(\"Rs. 2 per unit\")\n",
        "  price_1 = (units - 100) * 2\n",
        "  total_bill = price_1\n",
        "elif units > 300:\n",
        "  print(\"Rs. 5 per unit\")\n",
        "  price_1 = 200\n",
        "  price_3 = (units-300) * 5\n",
        "  total_bill = price_1 + price_3\n",
        "print(\"Total Bill: \", total_bill)\n"
      ],
      "metadata": {
        "colab": {
          "base_uri": "https://localhost:8080/"
        },
        "id": "f-YYmYOOZkVv",
        "outputId": "a6be680b-3ae3-41d3-f220-c6ea38026abc"
      },
      "execution_count": null,
      "outputs": [
        {
          "output_type": "stream",
          "name": "stdout",
          "text": [
            "Enter the no of electric units: 550\n",
            "Rs. 5 per unit\n",
            "Total Bill:  1250\n"
          ]
        }
      ]
    },
    {
      "cell_type": "code",
      "source": [
        "# Use while(True) to handle the loop\n",
        "while True:\n",
        "    # Generate and print even numbers in reverse using the for loop\n",
        "    for i in range(20, 0, -2):\n",
        "        print(i, end=\" \")\n",
        "    break  # Exit after the loop completes\n"
      ],
      "metadata": {
        "colab": {
          "base_uri": "https://localhost:8080/"
        },
        "id": "_4heVsVcb6V_",
        "outputId": "f37f527c-1771-4c96-e5bb-9dace973e8ec"
      },
      "execution_count": null,
      "outputs": [
        {
          "output_type": "stream",
          "name": "stdout",
          "text": [
            "20 18 16 14 12 10 8 6 4 2 "
          ]
        }
      ]
    },
    {
      "cell_type": "code",
      "source": [
        "while(True):\n",
        "  for i in range(20,42,5):\n",
        "    print(i, end = \" \")\n",
        "  break"
      ],
      "metadata": {
        "colab": {
          "base_uri": "https://localhost:8080/"
        },
        "id": "bGNOSE4EgToK",
        "outputId": "6572c9b8-7c7d-4cea-ff92-075e2c671501"
      },
      "execution_count": null,
      "outputs": [
        {
          "output_type": "stream",
          "name": "stdout",
          "text": [
            "20 25 30 35 40 "
          ]
        }
      ]
    },
    {
      "cell_type": "code",
      "source": [
        "import numpy as np\n",
        "arr = np.array([1,2,3,4,5,8,3,9,6,8,9,4,6,3,6])\n",
        "res = (arr > 4) & (arr < 9)\n",
        "print(arr[res])"
      ],
      "metadata": {
        "colab": {
          "base_uri": "https://localhost:8080/"
        },
        "id": "gcZoVYuphhLk",
        "outputId": "6f0e1fa5-fabb-4ff6-f197-090243e502e3"
      },
      "execution_count": null,
      "outputs": [
        {
          "output_type": "stream",
          "name": "stdout",
          "text": [
            "[5 8 6 8 6 6]\n"
          ]
        }
      ]
    },
    {
      "cell_type": "code",
      "source": [
        "import numpy as np\n",
        "arr = np.array([1,2,3,4,5,8,3,9,6,8,9,4,6,3,6])\n",
        "print(arr)\n",
        "copied_arr = arr.copy()\n",
        "copied_arr[arr%2 == 0] = 0\n",
        "print(copied_arr)"
      ],
      "metadata": {
        "colab": {
          "base_uri": "https://localhost:8080/"
        },
        "id": "dO3RDIf_txwW",
        "outputId": "d1c8a7c6-ef87-4560-e0ee-e5b955ff05a3"
      },
      "execution_count": null,
      "outputs": [
        {
          "output_type": "stream",
          "name": "stdout",
          "text": [
            "[1 2 3 4 5 8 3 9 6 8 9 4 6 3 6]\n",
            "[1 0 3 0 5 0 3 9 0 0 9 0 0 3 0]\n"
          ]
        }
      ]
    },
    {
      "cell_type": "code",
      "source": [
        "import numpy as np"
      ],
      "metadata": {
        "id": "o8UxAksUwWvt"
      },
      "execution_count": null,
      "outputs": []
    },
    {
      "cell_type": "code",
      "source": [
        "a = np.random.randn(3,5)"
      ],
      "metadata": {
        "id": "c83kLgZ_xbVm"
      },
      "execution_count": null,
      "outputs": []
    },
    {
      "cell_type": "code",
      "source": [
        "print(a)"
      ],
      "metadata": {
        "colab": {
          "base_uri": "https://localhost:8080/"
        },
        "id": "T3GW860haf4y",
        "outputId": "cecb9cc8-2660-4678-eeac-263c7d3ebe1b"
      },
      "execution_count": null,
      "outputs": [
        {
          "output_type": "stream",
          "name": "stdout",
          "text": [
            "[[-0.1244332  -0.09921409 -0.43612446 -0.10607034  0.10912878]\n",
            " [ 1.9037679  -2.03693862 -0.69518766 -0.29746839 -1.21085253]\n",
            " [ 1.09631746 -0.65584884 -0.43706477  0.35729703 -0.04029395]]\n"
          ]
        }
      ]
    },
    {
      "cell_type": "code",
      "source": [
        "np.mean(a)"
      ],
      "metadata": {
        "colab": {
          "base_uri": "https://localhost:8080/"
        },
        "id": "vaJ7p-kaapeO",
        "outputId": "471c5a1d-2fa7-4243-ebfc-700898340c78"
      },
      "execution_count": null,
      "outputs": [
        {
          "output_type": "execute_result",
          "data": {
            "text/plain": [
              "-0.17819904552702398"
            ]
          },
          "metadata": {},
          "execution_count": 7
        }
      ]
    },
    {
      "cell_type": "code",
      "source": [
        "mean = a.mean()"
      ],
      "metadata": {
        "id": "kThjI1Cearxu"
      },
      "execution_count": null,
      "outputs": []
    },
    {
      "cell_type": "code",
      "source": [
        "print(mean)"
      ],
      "metadata": {
        "colab": {
          "base_uri": "https://localhost:8080/"
        },
        "id": "mrKAD1BUauif",
        "outputId": "a9d3676f-d73c-423f-c602-d5ea9be96cb5"
      },
      "execution_count": null,
      "outputs": [
        {
          "output_type": "stream",
          "name": "stdout",
          "text": [
            "-0.17819904552702398\n"
          ]
        }
      ]
    },
    {
      "cell_type": "code",
      "source": [
        "np.mean(a,axis = 1)"
      ],
      "metadata": {
        "colab": {
          "base_uri": "https://localhost:8080/"
        },
        "id": "1LcyEdlbbDIW",
        "outputId": "c877f7dc-26cd-43eb-f1f7-b428903700c4"
      },
      "execution_count": null,
      "outputs": [
        {
          "output_type": "execute_result",
          "data": {
            "text/plain": [
              "array([-0.13134266, -0.46733586,  0.06408139])"
            ]
          },
          "metadata": {},
          "execution_count": 13
        }
      ]
    },
    {
      "cell_type": "code",
      "source": [
        "arr = np.array([1,4,2,7,9,3,5,8,6,10]) #Sorting in Descending order\n",
        "print(np.sort(arr)[:: -1])"
      ],
      "metadata": {
        "id": "2uunT92nbOSw",
        "colab": {
          "base_uri": "https://localhost:8080/"
        },
        "outputId": "c3974631-30a0-43be-dddd-e64da3c64ca7"
      },
      "execution_count": null,
      "outputs": [
        {
          "output_type": "stream",
          "name": "stdout",
          "text": [
            "[10  9  8  7  6  5  4  3  2  1]\n"
          ]
        }
      ]
    },
    {
      "cell_type": "code",
      "source": [
        "arr = np.array([1,4,2,7,9,3,5,8,6,10]) #Sorting in Ascending order\n",
        "print(np.sort(arr)[::])"
      ],
      "metadata": {
        "colab": {
          "base_uri": "https://localhost:8080/"
        },
        "id": "n9lfVFGg0jTL",
        "outputId": "13e68ca3-9bcd-4dd9-ab26-05a60209af6b"
      },
      "execution_count": null,
      "outputs": [
        {
          "output_type": "stream",
          "name": "stdout",
          "text": [
            "[ 1  2  3  4  5  6  7  8  9 10]\n"
          ]
        }
      ]
    },
    {
      "cell_type": "code",
      "source": [
        "arr = np.ones(7)"
      ],
      "metadata": {
        "id": "gm-4Xlhw0xuq"
      },
      "execution_count": null,
      "outputs": []
    },
    {
      "cell_type": "code",
      "source": [
        "print(arr)"
      ],
      "metadata": {
        "colab": {
          "base_uri": "https://localhost:8080/"
        },
        "id": "S2Y47f8r1P1l",
        "outputId": "235dcfe5-c465-4072-957b-4b33a2b2d66c"
      },
      "execution_count": null,
      "outputs": [
        {
          "output_type": "stream",
          "name": "stdout",
          "text": [
            "[1. 1. 1. 1. 1. 1. 1.]\n"
          ]
        }
      ]
    },
    {
      "cell_type": "code",
      "source": [
        "x = np.full((3,4),24)"
      ],
      "metadata": {
        "id": "AwN3QUuZ1SSz"
      },
      "execution_count": null,
      "outputs": []
    },
    {
      "cell_type": "code",
      "source": [
        "print(x)"
      ],
      "metadata": {
        "colab": {
          "base_uri": "https://localhost:8080/"
        },
        "id": "Iub8g40r10VI",
        "outputId": "4e2d1c70-98db-4f45-d972-a4b4727b1194"
      },
      "execution_count": null,
      "outputs": [
        {
          "output_type": "stream",
          "name": "stdout",
          "text": [
            "[[24 24 24 24]\n",
            " [24 24 24 24]\n",
            " [24 24 24 24]]\n"
          ]
        }
      ]
    },
    {
      "cell_type": "code",
      "source": [
        "np.sum(x)"
      ],
      "metadata": {
        "colab": {
          "base_uri": "https://localhost:8080/"
        },
        "id": "3XuvI_SB11jP",
        "outputId": "641f70c0-3768-4db9-aac9-4fd198fbef89"
      },
      "execution_count": null,
      "outputs": [
        {
          "output_type": "execute_result",
          "data": {
            "text/plain": [
              "288"
            ]
          },
          "metadata": {},
          "execution_count": 17
        }
      ]
    },
    {
      "cell_type": "code",
      "source": [
        "x = np.random.rand()\n",
        "print(x)"
      ],
      "metadata": {
        "colab": {
          "base_uri": "https://localhost:8080/"
        },
        "id": "3sQDSiOB24GK",
        "outputId": "f048cca5-6cf5-46ce-e1b9-56dd0107ad21"
      },
      "execution_count": null,
      "outputs": [
        {
          "output_type": "stream",
          "name": "stdout",
          "text": [
            "0.4620834248567036\n"
          ]
        }
      ]
    },
    {
      "cell_type": "code",
      "source": [
        "string = \"python\"\n",
        "for char in string:\n",
        "    print(char)"
      ],
      "metadata": {
        "id": "4aotmRt44qlc",
        "colab": {
          "base_uri": "https://localhost:8080/"
        },
        "outputId": "d128ef51-de90-40db-83d7-bd13ca004c69"
      },
      "execution_count": null,
      "outputs": [
        {
          "output_type": "stream",
          "name": "stdout",
          "text": [
            "p\n",
            "y\n",
            "t\n",
            "h\n",
            "o\n",
            "n\n"
          ]
        }
      ]
    },
    {
      "cell_type": "code",
      "source": [
        "for i in range(5,0,1):\n",
        "  print(i)"
      ],
      "metadata": {
        "id": "ySd24IAqESwk"
      },
      "execution_count": null,
      "outputs": []
    },
    {
      "cell_type": "code",
      "source": [
        "x = 3\n",
        "if x == 3 or 4:\n",
        "  print(\"yes\")\n",
        "else:\n",
        "  print(\"no\")"
      ],
      "metadata": {
        "id": "Najk_0HwE0YH",
        "colab": {
          "base_uri": "https://localhost:8080/"
        },
        "outputId": "f1ff3ed4-f42a-466d-b05b-4aca44843169"
      },
      "execution_count": null,
      "outputs": [
        {
          "output_type": "stream",
          "name": "stdout",
          "text": [
            "yes\n"
          ]
        }
      ]
    },
    {
      "cell_type": "code",
      "source": [
        "x = 5\n",
        "y = 3\n",
        "z = (x == y)\n",
        "print(z)"
      ],
      "metadata": {
        "colab": {
          "base_uri": "https://localhost:8080/"
        },
        "id": "ycJzUOvc81Zj",
        "outputId": "54c504d2-0a89-4a6c-e6e2-ce1d12031a49"
      },
      "execution_count": null,
      "outputs": [
        {
          "output_type": "stream",
          "name": "stdout",
          "text": [
            "False\n"
          ]
        }
      ]
    },
    {
      "cell_type": "code",
      "source": [
        "x = 10\n",
        "y = 3\n",
        "print(x/y)"
      ],
      "metadata": {
        "colab": {
          "base_uri": "https://localhost:8080/"
        },
        "id": "6XpppNpt9LPo",
        "outputId": "795d5603-0ceb-46cb-c8e1-d584edce5831"
      },
      "execution_count": null,
      "outputs": [
        {
          "output_type": "stream",
          "name": "stdout",
          "text": [
            "3.3333333333333335\n"
          ]
        }
      ]
    },
    {
      "cell_type": "code",
      "source": [
        "x = 5\n",
        "y = 10\n",
        "if x == 5 and not y >20:\n",
        "  print(\"yes\")\n",
        "else:\n",
        "  print(\"no\")"
      ],
      "metadata": {
        "colab": {
          "base_uri": "https://localhost:8080/"
        },
        "id": "4-X0selb9dt0",
        "outputId": "e6ef18bc-5942-45d7-e649-a32c4a88720f"
      },
      "execution_count": null,
      "outputs": [
        {
          "output_type": "stream",
          "name": "stdout",
          "text": [
            "yes\n"
          ]
        }
      ]
    },
    {
      "cell_type": "code",
      "source": [
        "x = \"hello\"\n",
        "if x:\n",
        "  print(\"yes\")\n",
        "else:\n",
        "  print(\"no\")"
      ],
      "metadata": {
        "colab": {
          "base_uri": "https://localhost:8080/"
        },
        "id": "0qt3tFU6-PpR",
        "outputId": "3ae66561-5b87-4544-c383-92066897dc9d"
      },
      "execution_count": null,
      "outputs": [
        {
          "output_type": "stream",
          "name": "stdout",
          "text": [
            "yes\n"
          ]
        }
      ]
    },
    {
      "cell_type": "code",
      "source": [
        "a = True\n",
        "b = False\n",
        "c = False\n",
        "print(a or b and c)"
      ],
      "metadata": {
        "colab": {
          "base_uri": "https://localhost:8080/"
        },
        "id": "2CqbxJ7V-fRv",
        "outputId": "bc1e7856-c0ea-4ff9-9d05-2e1739c02cb4"
      },
      "execution_count": null,
      "outputs": [
        {
          "output_type": "stream",
          "name": "stdout",
          "text": [
            "True\n"
          ]
        }
      ]
    },
    {
      "cell_type": "code",
      "source": [
        "x = 1\n",
        "if x == 1:\n",
        "  x = 2\n",
        "elif x == 2:\n",
        "  x = 3\n",
        "else:\n",
        "  x = 4\n",
        "print(x)"
      ],
      "metadata": {
        "colab": {
          "base_uri": "https://localhost:8080/"
        },
        "id": "Fgb-DAFW_G0w",
        "outputId": "0fd3d10a-7b79-46f8-91d1-88bede53b5d2"
      },
      "execution_count": null,
      "outputs": [
        {
          "output_type": "stream",
          "name": "stdout",
          "text": [
            "2\n"
          ]
        }
      ]
    },
    {
      "cell_type": "code",
      "source": [
        "x = 0\n",
        "for i in range(1, 5):\n",
        "  x += i\n",
        "print(x)"
      ],
      "metadata": {
        "colab": {
          "base_uri": "https://localhost:8080/"
        },
        "id": "bRbCu4h1_TzI",
        "outputId": "9dc881c8-b937-4cfa-c628-8675b84ab4aa"
      },
      "execution_count": null,
      "outputs": [
        {
          "output_type": "stream",
          "name": "stdout",
          "text": [
            "10\n"
          ]
        }
      ]
    },
    {
      "cell_type": "code",
      "source": [
        "a = \"hello\"\n",
        "b = \"world\"\n",
        "c = \" \"\n",
        "d = \"python\"\n",
        "e = a + b + c + d\n",
        "print(e)"
      ],
      "metadata": {
        "colab": {
          "base_uri": "https://localhost:8080/"
        },
        "id": "JkFgIFWP_eZL",
        "outputId": "4cf34868-e699-4482-c18c-3add461598ff"
      },
      "execution_count": null,
      "outputs": [
        {
          "output_type": "stream",
          "name": "stdout",
          "text": [
            "helloworld python\n"
          ]
        }
      ]
    },
    {
      "cell_type": "code",
      "source": [
        "# prompt: square root of positive int simple math opretation code no import\n",
        "\n",
        "def sqrt_positive_int(n):\n",
        "  \"\"\"\n",
        "  Calculates the square root of a positive integer using simple math operations.\n",
        "\n",
        "  Args:\n",
        "    n: A positive integer.\n",
        "\n",
        "  Returns:\n",
        "    The integer part of the square root of n.\n",
        "    Returns -1 if n is negative.\n",
        "  \"\"\"\n",
        "  if n < 0:\n",
        "    return -1\n",
        "\n",
        "  if n == 0:\n",
        "    return 0\n",
        "\n",
        "  low = 0\n",
        "  high = n\n",
        "\n",
        "  while low <= high:\n",
        "    mid = (low + high) // 2  # Use integer division for whole numbers\n",
        "    if mid * mid <= n < (mid+1) * (mid+1):\n",
        "      return mid\n",
        "    elif mid * mid < n:\n",
        "      low = mid + 1\n",
        "    else:\n",
        "      high = mid -1\n"
      ],
      "metadata": {
        "id": "zEkHsRk2_uzh"
      },
      "execution_count": null,
      "outputs": []
    },
    {
      "cell_type": "code",
      "source": [
        "def round_number(number):\n",
        "    return round(number)\n",
        "\n",
        "number = float(input(\"Enter a number: \"))\n",
        "\n",
        "rounded_number = round_number(number)\n",
        "\n",
        "print(\"Rounded number:\", rounded_number)"
      ],
      "metadata": {
        "colab": {
          "base_uri": "https://localhost:8080/"
        },
        "id": "hrJ9Er45MYmp",
        "outputId": "11fc5e6d-719b-4e11-f719-6e7cdfa08fb6"
      },
      "execution_count": null,
      "outputs": [
        {
          "output_type": "stream",
          "name": "stdout",
          "text": [
            "Enter a number: 54.98\n",
            "Rounded number: 55\n"
          ]
        }
      ]
    },
    {
      "cell_type": "code",
      "source": [
        "a = float(input(\" \"))\n",
        "b = float(input(\" \"))\n",
        "if a<b:\n",
        "    print(a)\n",
        "else:\n",
        "    print(b)"
      ],
      "metadata": {
        "colab": {
          "base_uri": "https://localhost:8080/"
        },
        "id": "c9ZAPqKpOcv1",
        "outputId": "00daf426-cd07-4cba-c7ec-9db38b318e45"
      },
      "execution_count": null,
      "outputs": [
        {
          "output_type": "stream",
          "name": "stdout",
          "text": [
            " 6.66\n",
            " 5\n",
            "5.0\n"
          ]
        }
      ]
    },
    {
      "cell_type": "code",
      "source": [
        "limit = int(input(\"Enter the limit: \"))\n",
        "\n",
        "sum_of_multiples_of_7 = 0\n",
        "sum_of_multiples_of_8 = 0\n",
        "\n",
        "for i in range(limit + 1):  # Iterate through numbers from 0 to limit\n",
        "    if i % 7 == 0:  # Check if i is a multiple of 7\n",
        "        sum_of_multiples_of_7 += i\n",
        "    if i % 8 == 0:  # Check if i is a multiple of 8\n",
        "        sum_of_multiples_of_8 += i\n",
        "\n",
        "print(\"Sum of multiples of 7:\", sum_of_multiples_of_7)\n",
        "print(\"Sum of multiples of 8:\", sum_of_multiples_of_8)"
      ],
      "metadata": {
        "colab": {
          "base_uri": "https://localhost:8080/"
        },
        "id": "EeFP7nYxPr4e",
        "outputId": "018c22d1-b527-4685-bf5e-759c9513382e"
      },
      "execution_count": null,
      "outputs": [
        {
          "output_type": "stream",
          "name": "stdout",
          "text": [
            "Enter the limit: 7\n",
            "Sum of multiples of 7: 7\n",
            "Sum of multiples of 8: 0\n"
          ]
        }
      ]
    },
    {
      "cell_type": "code",
      "source": [
        "def find_factors(num):\n",
        "    factors = []\n",
        "    for i in range(1, abs(num) + 1):\n",
        "        if num % i == 0:\n",
        "            factors.append((i, num // i))\n",
        "            if i * i != num:\n",
        "                factors.append((-i, -num // i))\n",
        "    factors.sort()\n",
        "    return factors\n",
        "\n",
        "num = int(input(\"\"))\n",
        "\n",
        "factors = find_factors(num)\n",
        "for factor_pair in factors:\n",
        "    print(f\"{factor_pair[0]} x {factor_pair[1]}\")\n"
      ],
      "metadata": {
        "colab": {
          "base_uri": "https://localhost:8080/"
        },
        "id": "5dvViaXgQ1cS",
        "outputId": "12ed42b0-1801-4fd7-b7b1-fe9e761f6341"
      },
      "execution_count": null,
      "outputs": [
        {
          "name": "stdout",
          "output_type": "stream",
          "text": [
            "0\n"
          ]
        }
      ]
    },
    {
      "source": [
        "def find_factors(num):\n",
        "    if num == 0:\n",
        "        return [(1, 0)]  # Return (1, 0) for num = 0\n",
        "    else:\n",
        "        factors = []\n",
        "        for i in range(1, abs(num) + 1):\n",
        "            if num % i == 0:\n",
        "                factors.append((i, num // i))\n",
        "                if i * i != num:\n",
        "                    factors.append((-i, -num // i))\n",
        "        factors.sort()\n",
        "        return factors\n",
        "\n",
        "num = int(input(\"\"))\n",
        "\n",
        "factors = find_factors(num)\n",
        "for factor_pair in factors:\n",
        "    print(f\"{factor_pair[0]} x {factor_pair[1]}\")"
      ],
      "cell_type": "code",
      "metadata": {
        "colab": {
          "base_uri": "https://localhost:8080/"
        },
        "id": "Wm6LW0JJUlHr",
        "outputId": "d62f5056-bc37-46e3-8e0a-512965a8b1c2"
      },
      "execution_count": null,
      "outputs": [
        {
          "output_type": "stream",
          "name": "stdout",
          "text": [
            "0\n",
            "1 x 0\n"
          ]
        }
      ]
    },
    {
      "cell_type": "code",
      "source": [
        "num = int(input(\"Enter an integer: \"))\n",
        "\n",
        "for i in range(1, abs(num) + 1):\n",
        "    if num % i == 0:\n",
        "        print(f\"{i} x {num // i}\")\n",
        "        if i * i != num:  # Avoid duplicates for perfect squares\n",
        "            print(f\"{-i} x {-num // i}\")"
      ],
      "metadata": {
        "colab": {
          "base_uri": "https://localhost:8080/"
        },
        "id": "b2hT4iFGR6WQ",
        "outputId": "f08a08b1-fd82-4c4f-8dc3-49cd5662f2e7"
      },
      "execution_count": null,
      "outputs": [
        {
          "name": "stdout",
          "output_type": "stream",
          "text": [
            "Enter an integer: 0\n"
          ]
        }
      ]
    },
    {
      "source": [
        "def find_factors(num):\n",
        "    if num == 0:\n",
        "        return [1]  # Return only 1 for num = 0\n",
        "    else:\n",
        "        factors = []\n",
        "        for i in range(1, abs(num) + 1):\n",
        "            if num % i == 0:\n",
        "                factors.append((i, num // i))\n",
        "                if i * i != num:\n",
        "                    factors.append((-i, -num // i))\n",
        "        factors.sort()\n",
        "        return factors\n",
        "\n",
        "num = int(input(\"\"))\n",
        "\n",
        "factors = find_factors(num)\n",
        "\n",
        "if num == 0:\n",
        "    print(factors[0])  # Print only 1 for num = 0\n",
        "else:\n",
        "    for factor_pair in factors:\n",
        "        print(f\"{factor_pair[0]} x {factor_pair[1]}\")"
      ],
      "cell_type": "code",
      "metadata": {
        "colab": {
          "base_uri": "https://localhost:8080/"
        },
        "id": "3QyIxzKHUwGO",
        "outputId": "9dbe3e69-1386-4bb5-a90f-83a06317e78c"
      },
      "execution_count": null,
      "outputs": [
        {
          "output_type": "stream",
          "name": "stdout",
          "text": [
            "24\n",
            "-24 x -1\n",
            "-12 x -2\n",
            "-8 x -3\n",
            "-6 x -4\n",
            "-4 x -6\n",
            "-3 x -8\n",
            "-2 x -12\n",
            "-1 x -24\n",
            "1 x 24\n",
            "2 x 12\n",
            "3 x 8\n",
            "4 x 6\n",
            "6 x 4\n",
            "8 x 3\n",
            "12 x 2\n",
            "24 x 1\n"
          ]
        }
      ]
    },
    {
      "source": [
        "import cmath\n",
        "\n",
        "# Coefficients of the quadratic equation\n",
        "a = 10\n",
        "b = -20\n",
        "c = 30\n",
        "\n",
        "# Calculate the discriminant\n",
        "discriminant = (b**2) - 4*(a*c)\n",
        "\n",
        "# Find the roots using the quadratic formula\n",
        "x1 = (-b + cmath.sqrt(discriminant)) / (2*a)\n",
        "x2 = (-b - cmath.sqrt(discriminant)) / (2*a)\n",
        "\n",
        "# Print the roots using a single print function\n",
        "print(f\"The roots are x1 = {x1} and x2 = {x2}\")"
      ],
      "cell_type": "code",
      "metadata": {
        "colab": {
          "base_uri": "https://localhost:8080/"
        },
        "id": "qpHoEgHrVJ9D",
        "outputId": "770fdc9c-7604-464c-9124-bf0b50718941"
      },
      "execution_count": null,
      "outputs": [
        {
          "output_type": "stream",
          "name": "stdout",
          "text": [
            "The roots are x1 = (1+1.4142135623730951j) and x2 = (1-1.4142135623730951j)\n"
          ]
        }
      ]
    },
    {
      "cell_type": "code",
      "source": [
        "num = int(input(\"Enter an integer: \"))\n",
        "\n",
        "if num == 0:\n",
        "    print(1)  # Special case for 0\n",
        "else:\n",
        "    for i in range(1, abs(num) + 1):\n",
        "        if num % i == 0:\n",
        "            print(f\"{i} x {num // i}\")\n",
        "            if i * i != num:  # Avoid duplicates for perfect squares\n",
        "                print(f\"{-i} x {-num // i}\")"
      ],
      "metadata": {
        "colab": {
          "base_uri": "https://localhost:8080/"
        },
        "id": "vL6WlL3ES_ok",
        "outputId": "b5e61c73-4001-441e-d522-8d67a3c07b52"
      },
      "execution_count": null,
      "outputs": [
        {
          "output_type": "stream",
          "name": "stdout",
          "text": [
            "Enter an integer: 10\n",
            "1 x 10\n",
            "-1 x -10\n",
            "2 x 5\n",
            "-2 x -5\n",
            "5 x 2\n",
            "-5 x -2\n",
            "10 x 1\n",
            "-10 x -1\n"
          ]
        }
      ]
    },
    {
      "cell_type": "code",
      "source": [
        "import cmath\n",
        "\n",
        "a = float(input(\" \"))\n",
        "b = float(input(\" \"))\n",
        "c = float(input(\" \"))\n",
        "\n",
        "discriminant = (b**2) - 4*(a*c)\n",
        "\n",
        "x1 = (-b + cmath.sqrt(discriminant)) / (2*a)\n",
        "x2 = (-b - cmath.sqrt(discriminant)) / (2*a)\n",
        "\n",
        "print(x1,x2)"
      ],
      "metadata": {
        "colab": {
          "base_uri": "https://localhost:8080/"
        },
        "id": "5Kd6WDWCTKt6",
        "outputId": "9cad9554-4527-4157-f9da-c153ca959615"
      },
      "execution_count": null,
      "outputs": [
        {
          "output_type": "stream",
          "name": "stdout",
          "text": [
            " 10\n",
            " -20\n",
            " 30\n",
            "(1+1.4142135623730951j) (1-1.4142135623730951j)\n"
          ]
        }
      ]
    },
    {
      "cell_type": "code",
      "source": [
        "a = float(input(\" \"))\n",
        "if((a% 4 == 0) and (a % 3 == 0)):\n",
        "    print(\"MickeyMouse\")\n",
        "elif a % 4 == 0:\n",
        "    print(\"Mickey\")\n",
        "elif a % 3 == 0:\n",
        "    print(\"Mouse\")\n",
        "else:\n",
        "    print(a)"
      ],
      "metadata": {
        "colab": {
          "base_uri": "https://localhost:8080/"
        },
        "id": "Po295t7lVt5r",
        "outputId": "31be19cf-658d-49ae-c2f5-bc3263cbf16e"
      },
      "execution_count": null,
      "outputs": [
        {
          "output_type": "stream",
          "name": "stdout",
          "text": [
            " 9\n",
            "Mouse\n"
          ]
        }
      ]
    },
    {
      "cell_type": "code",
      "source": [
        "total = float(input(\"\"))\n",
        "discount = 0\n",
        "if total < 200:\n",
        "    print(discount)\n",
        "elif total <= 500 and total >= 200:\n",
        "    discount = total - (total * 0.1)\n",
        "    print(discount)\n",
        "elif total > 500:\n",
        "    discount = total - (total * 0.2)\n",
        "    print(discount)"
      ],
      "metadata": {
        "colab": {
          "base_uri": "https://localhost:8080/"
        },
        "id": "guKZ8jHrWolO",
        "outputId": "218739e7-bb28-4b78-db25-52af35eaf4eb"
      },
      "execution_count": null,
      "outputs": [
        {
          "output_type": "stream",
          "name": "stdout",
          "text": [
            "600\n",
            "480.0\n"
          ]
        }
      ]
    },
    {
      "cell_type": "code",
      "source": [
        "def is_prime(n):\n",
        "    \"\"\"Returns True if n is a prime number, False otherwise.\"\"\"\n",
        "    if n <= 1:\n",
        "        return False\n",
        "    for i in range(2, int(n**0.5) + 1):\n",
        "        if n % i == 0:\n",
        "            return False\n",
        "    return True\n",
        "\n",
        "limit = int(input(\"\"))\n",
        "for num in range(2, limit + 1):\n",
        "    if is_prime(num):\n",
        "        print(num, end=\" \")"
      ],
      "metadata": {
        "colab": {
          "base_uri": "https://localhost:8080/"
        },
        "id": "P7Zs13tkYOXl",
        "outputId": "54badc0c-c42c-43b0-b4ba-0888de607dcc"
      },
      "execution_count": null,
      "outputs": [
        {
          "output_type": "stream",
          "name": "stdout",
          "text": [
            "10\n",
            "10\n",
            "2 3 5 7 "
          ]
        }
      ]
    },
    {
      "cell_type": "code",
      "source": [
        "def is_prime(n):\n",
        "  for i in range(2, int(n**0.5) + 1):\n",
        "    if n % i == 0:\n",
        "      return False\n",
        "num = int(input())\n",
        "count = 2\n",
        "while count <= num:\n",
        "    if is_prime(count):\n",
        "        print(count)\n",
        "        user_input = input()\n",
        "        if user_input == 'N':\n",
        "            break\n",
        "    count += 1"
      ],
      "metadata": {
        "colab": {
          "base_uri": "https://localhost:8080/"
        },
        "id": "3WlgyTiOY-fU",
        "outputId": "29a81592-57f8-45b2-b0db-96036318f4e5"
      },
      "execution_count": null,
      "outputs": [
        {
          "output_type": "stream",
          "name": "stdout",
          "text": [
            "5\n",
            "2\n"
          ]
        }
      ]
    },
    {
      "cell_type": "code",
      "source": [
        "def is_prime(n):\n",
        "    if n < 2:\n",
        "        return False\n",
        "    for i in range(2, int(n**0.5) + 1):\n",
        "        if n % i == 0:\n",
        "            return False\n",
        "    return True\n",
        "num = int(input())\n",
        "count = 2\n",
        "primes_printed = 0\n",
        "\n",
        "while primes_printed < num:\n",
        "    if is_prime(count):\n",
        "        print(count)\n",
        "        primes_printed += 1\n",
        "        user_input = input()\n",
        "        if user_input == 'N':\n",
        "            break\n",
        "    count += 1\n"
      ],
      "metadata": {
        "colab": {
          "base_uri": "https://localhost:8080/"
        },
        "id": "vuqSGf53Z_LY",
        "outputId": "a7faafcd-d2d8-4e54-af50-ca2f743bb320"
      },
      "execution_count": null,
      "outputs": [
        {
          "name": "stdout",
          "output_type": "stream",
          "text": [
            "5\n",
            "2\n",
            "Y\n",
            "3\n",
            "Y\n",
            "5\n",
            "d\n",
            "7\n",
            "N\n"
          ]
        }
      ]
    },
    {
      "cell_type": "code",
      "source": [
        "def is_prime(n):\n",
        "  for i in range(2, int(n**0.5) + 1):\n",
        "    if n % i == 0:\n",
        "      return False\n",
        "num = int(input())\n",
        "count = 2\n",
        "while count <= num:\n",
        "    if is_prime(count):\n",
        "        print(count)\n",
        "        user_input = input()\n",
        "        if user_input == 'N':\n",
        "            break\n",
        "    count += 1"
      ],
      "metadata": {
        "id": "f9kUfB1MapXZ"
      },
      "execution_count": null,
      "outputs": []
    },
    {
      "cell_type": "code",
      "source": [
        "def hello(name):\n",
        "    print('Hello ' + name,\"How are u\")"
      ],
      "metadata": {
        "id": "hQ79y0ThbP3D"
      },
      "execution_count": null,
      "outputs": []
    },
    {
      "cell_type": "code",
      "source": [
        "hello('akshint')"
      ],
      "metadata": {
        "colab": {
          "base_uri": "https://localhost:8080/"
        },
        "id": "pidbA1iQkPw4",
        "outputId": "e86a10c5-a9bf-431e-ca1d-0ff9dc5126b7"
      },
      "execution_count": null,
      "outputs": [
        {
          "output_type": "stream",
          "name": "stdout",
          "text": [
            "Hello akshint How are u\n"
          ]
        }
      ]
    },
    {
      "cell_type": "code",
      "source": [
        "hello(\"Alice\")"
      ],
      "metadata": {
        "colab": {
          "base_uri": "https://localhost:8080/"
        },
        "id": "la19qbuzkXJz",
        "outputId": "fb10741b-33f2-497a-da5a-6101f4c83bed"
      },
      "execution_count": null,
      "outputs": [
        {
          "output_type": "stream",
          "name": "stdout",
          "text": [
            "Hello Alice How are u\n"
          ]
        }
      ]
    },
    {
      "cell_type": "code",
      "source": [
        "def fibonacci(N, a=0, b=1):\n",
        "    counter = 0\n",
        "    while counter < N:\n",
        "        a, b = b, a + b\n",
        "        print(a, end=' ')\n",
        "        counter += 1"
      ],
      "metadata": {
        "id": "ZKFlT5d2kaqc"
      },
      "execution_count": null,
      "outputs": []
    },
    {
      "cell_type": "code",
      "source": [
        "fibonacci(10)"
      ],
      "metadata": {
        "colab": {
          "base_uri": "https://localhost:8080/"
        },
        "id": "Bvbe_F82kyMV",
        "outputId": "cb64596a-2991-4172-8207-a81523805537"
      },
      "execution_count": null,
      "outputs": [
        {
          "output_type": "stream",
          "name": "stdout",
          "text": [
            "1 1 2 3 5 8 13 21 34 55 "
          ]
        }
      ]
    },
    {
      "cell_type": "code",
      "source": [
        "fibonacci(10,1,2)"
      ],
      "metadata": {
        "colab": {
          "base_uri": "https://localhost:8080/"
        },
        "id": "DxCdD1ykk3Wl",
        "outputId": "d2d76944-fdbd-46a0-954b-396821421060"
      },
      "execution_count": null,
      "outputs": [
        {
          "output_type": "stream",
          "name": "stdout",
          "text": [
            "2 3 5 8 13 21 34 55 89 144 "
          ]
        }
      ]
    },
    {
      "cell_type": "code",
      "source": [
        "def square_root(a):\n",
        "  a = a**0.5 + 1\n",
        "  print(a)\n"
      ],
      "metadata": {
        "id": "RWwk0asilYmS"
      },
      "execution_count": null,
      "outputs": []
    },
    {
      "cell_type": "code",
      "source": [
        "square(25)"
      ],
      "metadata": {
        "colab": {
          "base_uri": "https://localhost:8080/"
        },
        "id": "opMV9Sq4l1Ge",
        "outputId": "77f23771-271c-4432-a840-df1bb7020b13"
      },
      "execution_count": null,
      "outputs": [
        {
          "output_type": "stream",
          "name": "stdout",
          "text": [
            "1\n"
          ]
        }
      ]
    },
    {
      "cell_type": "code",
      "source": [
        "def val_pp(val):\n",
        "    return val, val + 1, val + 2"
      ],
      "metadata": {
        "id": "F0g4Xj_Rl3In"
      },
      "execution_count": null,
      "outputs": []
    },
    {
      "cell_type": "code",
      "source": [
        "val_pp(10)"
      ],
      "metadata": {
        "colab": {
          "base_uri": "https://localhost:8080/"
        },
        "id": "6hHneFz1m5xT",
        "outputId": "01232031-6c68-43ad-9d6a-adb26dd730fe"
      },
      "execution_count": null,
      "outputs": [
        {
          "output_type": "execute_result",
          "data": {
            "text/plain": [
              "(10, 11, 12)"
            ]
          },
          "metadata": {},
          "execution_count": 24
        }
      ]
    },
    {
      "cell_type": "code",
      "source": [
        "r, i, c = val_pp(3)\n",
        "print(r, i, c)"
      ],
      "metadata": {
        "colab": {
          "base_uri": "https://localhost:8080/"
        },
        "id": "boH5a2I1m8Xg",
        "outputId": "6451f73b-a04d-4d4a-c12d-4309989b586b"
      },
      "execution_count": null,
      "outputs": [
        {
          "output_type": "stream",
          "name": "stdout",
          "text": [
            "3 4 5\n"
          ]
        }
      ]
    },
    {
      "cell_type": "code",
      "source": [
        "r\n"
      ],
      "metadata": {
        "colab": {
          "base_uri": "https://localhost:8080/"
        },
        "id": "U7xjXYGKnEis",
        "outputId": "a11720de-0933-4280-9fa8-c003edca1f3e"
      },
      "execution_count": null,
      "outputs": [
        {
          "output_type": "execute_result",
          "data": {
            "text/plain": [
              "3"
            ]
          },
          "metadata": {},
          "execution_count": 26
        }
      ]
    },
    {
      "cell_type": "code",
      "source": [
        "i"
      ],
      "metadata": {
        "colab": {
          "base_uri": "https://localhost:8080/"
        },
        "id": "rZ-8fjc9nJMc",
        "outputId": "16f2a1a5-1569-4d06-a0de-aeecf50a32cc"
      },
      "execution_count": null,
      "outputs": [
        {
          "output_type": "execute_result",
          "data": {
            "text/plain": [
              "4"
            ]
          },
          "metadata": {},
          "execution_count": 27
        }
      ]
    },
    {
      "cell_type": "code",
      "source": [
        "?function-val_pp()"
      ],
      "metadata": {
        "colab": {
          "base_uri": "https://localhost:8080/"
        },
        "id": "o268QlgwnJ9q",
        "outputId": "d6b9c391-6712-45d4-9724-3bfabf7ee447"
      },
      "execution_count": null,
      "outputs": [
        {
          "output_type": "stream",
          "name": "stdout",
          "text": [
            "Object `function-val_pp()` not found.\n"
          ]
        }
      ]
    },
    {
      "cell_type": "code",
      "source": [
        "#Create a function to calculate the cube of a number that is passed as the argument to the function.\n",
        "def cube(a):\n",
        "  return a**3"
      ],
      "metadata": {
        "id": "s4-Xb7ixn-XI"
      },
      "execution_count": null,
      "outputs": []
    },
    {
      "cell_type": "code",
      "source": [
        "cube(2)"
      ],
      "metadata": {
        "colab": {
          "base_uri": "https://localhost:8080/"
        },
        "id": "912eaxJ7pRXv",
        "outputId": "1315c5c8-a967-47f9-c3cd-f353a50bf20d"
      },
      "execution_count": null,
      "outputs": [
        {
          "output_type": "execute_result",
          "data": {
            "text/plain": [
              "8"
            ]
          },
          "metadata": {},
          "execution_count": 50
        }
      ]
    },
    {
      "cell_type": "code",
      "source": [
        "# Create a function to calculate the sum of squares of 2 numbers that are defined as the default arguments, resulting in a square output of 5.\n",
        "\n",
        "def sum_of_squares(a=2, b=3):\n",
        "  return a**2 + b**2\n"
      ],
      "metadata": {
        "id": "PsYSx65OpT0G"
      },
      "execution_count": null,
      "outputs": []
    },
    {
      "cell_type": "code",
      "source": [
        "sum_of_squares(5,0)"
      ],
      "metadata": {
        "colab": {
          "base_uri": "https://localhost:8080/"
        },
        "id": "UwTvAl7mqfOf",
        "outputId": "e6e784b9-3115-480b-ae9b-c5fbef9b3227"
      },
      "execution_count": null,
      "outputs": [
        {
          "output_type": "execute_result",
          "data": {
            "text/plain": [
              "25"
            ]
          },
          "metadata": {},
          "execution_count": 51
        }
      ]
    },
    {
      "cell_type": "code",
      "source": [
        "#Create a function to calculate the factorial of a number passed as an argument and assign the output of the function to a variable named out.\n",
        "def factorial(n):\n",
        "  result = 1\n",
        "  for i in range(1, n + 1):\n",
        "    result *= i\n",
        "  return result"
      ],
      "metadata": {
        "id": "3Wcg62Mzq2gr"
      },
      "execution_count": null,
      "outputs": []
    },
    {
      "cell_type": "code",
      "source": [
        "factorial(3)"
      ],
      "metadata": {
        "colab": {
          "base_uri": "https://localhost:8080/"
        },
        "id": "qfCz6Nvjrpae",
        "outputId": "4ae7e222-4510-457b-82b6-a27b15428060"
      },
      "execution_count": null,
      "outputs": [
        {
          "output_type": "execute_result",
          "data": {
            "text/plain": [
              "6"
            ]
          },
          "metadata": {},
          "execution_count": 53
        }
      ]
    },
    {
      "cell_type": "code",
      "source": [
        "# prompt: #Create a function to calculate the area of a triangle or rectangle using 3 arguments: base, height, and shape.\n",
        "\n",
        "def calculate_area(base, height, shape):\n",
        "  if shape == str(\"triangle\"):\n",
        "    return 0.5 * base * height\n",
        "  elif shape == str(\"rectangle\"):\n",
        "    return base * height\n",
        "  else:\n",
        "    return None"
      ],
      "metadata": {
        "id": "1-50JVbnrvVg"
      },
      "execution_count": null,
      "outputs": []
    },
    {
      "cell_type": "code",
      "source": [
        "area(10,5,\"triangle\")"
      ],
      "metadata": {
        "colab": {
          "base_uri": "https://localhost:8080/"
        },
        "id": "aTJd4ij2sMXn",
        "outputId": "5c84eb25-58d0-4ffd-8956-961c3d1177e2"
      },
      "execution_count": null,
      "outputs": [
        {
          "output_type": "execute_result",
          "data": {
            "text/plain": [
              "25.0"
            ]
          },
          "metadata": {},
          "execution_count": 71
        }
      ]
    },
    {
      "cell_type": "code",
      "source": [
        "#Create a function that returns a None value and displays the result of string concatenation. Take the 2 strings required for the function as arguments as shown below.\n",
        "def concatenate_strings(str1, str2):\n",
        "  print(str1 + str2)\n",
        "concatenate_strings(\"hello\", \"world\")"
      ],
      "metadata": {
        "colab": {
          "base_uri": "https://localhost:8080/"
        },
        "id": "rjt2m6LJsTOY",
        "outputId": "21857d99-e126-45e7-fa9c-5fe8a1640529"
      },
      "execution_count": null,
      "outputs": [
        {
          "output_type": "stream",
          "name": "stdout",
          "text": [
            "helloworld\n"
          ]
        }
      ]
    },
    {
      "cell_type": "code",
      "source": [
        "concatenate_strings(\"\",\"\")"
      ],
      "metadata": {
        "colab": {
          "base_uri": "https://localhost:8080/"
        },
        "id": "6_VY2GAjtUDA",
        "outputId": "c06783e3-85d5-4e2e-de32-435570fa153c"
      },
      "execution_count": null,
      "outputs": [
        {
          "output_type": "stream",
          "name": "stdout",
          "text": [
            "\n"
          ]
        }
      ]
    },
    {
      "cell_type": "code",
      "source": [
        "#n: 1 + 1/1! + 1/2! + 1/3! + + 1/n!\n",
        "n = int(input())\n",
        "total_sum = 0\n",
        "for i in range(n + 1):\n",
        "  total_sum += 1 / factorial(i)\n",
        "print(total_sum)"
      ],
      "metadata": {
        "colab": {
          "base_uri": "https://localhost:8080/"
        },
        "id": "9PfnOEGkt68W",
        "outputId": "c9357903-bd7d-42e2-abba-c2a456699a1c"
      },
      "execution_count": null,
      "outputs": [
        {
          "output_type": "stream",
          "name": "stdout",
          "text": [
            "2\n",
            "2.5\n"
          ]
        }
      ]
    },
    {
      "cell_type": "code",
      "source": [
        "sum(1)"
      ],
      "metadata": {
        "colab": {
          "base_uri": "https://localhost:8080/"
        },
        "id": "QG3-g7pfu-zx",
        "outputId": "4d71102c-04a7-43cb-e966-c5d205afa000"
      },
      "execution_count": null,
      "outputs": [
        {
          "output_type": "execute_result",
          "data": {
            "text/plain": [
              "1.0"
            ]
          },
          "metadata": {},
          "execution_count": 85
        }
      ]
    },
    {
      "cell_type": "code",
      "source": [
        "def is_pangram(text):\n",
        "  text = text.lower()\n",
        "  alphabet = \"abcdefghijklmnopqrstuvwxyz\"\n",
        "  for char in alphabet:\n",
        "    if char not in text:\n",
        "      return False\n",
        "  return True\n",
        "\n",
        "# Get input from the user\n",
        "text = input(\"Enter a string: \")\n",
        "\n",
        "# Check if the string is a pangram and print the result\n",
        "if is_pangram(text):\n",
        "  print(\"The string is a pangram.\")\n",
        "else:\n",
        "  print(\"The string is not a pangram.\")"
      ],
      "metadata": {
        "colab": {
          "base_uri": "https://localhost:8080/"
        },
        "id": "_orHZMozvBic",
        "outputId": "36850a9b-f6ec-48bf-896b-b66f88fe5791"
      },
      "execution_count": null,
      "outputs": [
        {
          "output_type": "stream",
          "name": "stdout",
          "text": [
            "Enter a string: c\n",
            "The string is not a pangram.\n"
          ]
        }
      ]
    },
    {
      "cell_type": "code",
      "source": [
        "def greet():\n",
        "    print(\"hey\")\n",
        "greet"
      ],
      "metadata": {
        "colab": {
          "base_uri": "https://localhost:8080/",
          "height": 103
        },
        "id": "hiPzeYWJwmlW",
        "outputId": "7d45fa79-7100-41f5-b76c-1cb7a5cc9407"
      },
      "execution_count": 2,
      "outputs": [
        {
          "output_type": "execute_result",
          "data": {
            "text/plain": [
              "<function __main__.greet()>"
            ],
            "text/html": [
              "<div style=\"max-width:800px; border: 1px solid var(--colab-border-color);\"><style>\n",
              "      pre.function-repr-contents {\n",
              "        overflow-x: auto;\n",
              "        padding: 8px 12px;\n",
              "        max-height: 500px;\n",
              "      }\n",
              "\n",
              "      pre.function-repr-contents.function-repr-contents-collapsed {\n",
              "        cursor: pointer;\n",
              "        max-height: 100px;\n",
              "      }\n",
              "    </style>\n",
              "    <pre style=\"white-space: initial; background:\n",
              "         var(--colab-secondary-surface-color); padding: 8px 12px;\n",
              "         border-bottom: 1px solid var(--colab-border-color);\"><b>greet</b><br/>def greet()</pre><pre class=\"function-repr-contents function-repr-contents-collapsed\" style=\"\"><a class=\"filepath\" style=\"display:none\" href=\"#\">/content/&lt;ipython-input-2-0e701515ec27&gt;</a>&lt;no docstring&gt;</pre></div>"
            ]
          },
          "metadata": {},
          "execution_count": 2
        }
      ]
    },
    {
      "cell_type": "code",
      "source": [
        "def multiply(a,b=2):\n",
        "  return a*b\n",
        "\n",
        "result1 = multiply(3)\n",
        "result2 = multiply(4,5)\n",
        "print(result1)\n",
        "print(result2)"
      ],
      "metadata": {
        "colab": {
          "base_uri": "https://localhost:8080/"
        },
        "id": "xvaSc1BKzbVc",
        "outputId": "6faf617a-4918-47d1-d234-56a88424e755"
      },
      "execution_count": null,
      "outputs": [
        {
          "output_type": "stream",
          "name": "stdout",
          "text": [
            "6\n",
            "20\n"
          ]
        }
      ]
    },
    {
      "cell_type": "code",
      "source": [
        "def square(num):\n",
        "  return num**2"
      ],
      "metadata": {
        "id": "DaSNJBbxzuiC"
      },
      "execution_count": null,
      "outputs": []
    },
    {
      "cell_type": "code",
      "source": [
        "def concatinate_strings(*arg):\n",
        "  result = \"\"\n",
        "  for string in arg:\n",
        "    result += string\n",
        "  return result\n",
        "a = \"hello\"\n",
        "b = \"world\"\n",
        "concatinate_strings(a,b)"
      ],
      "metadata": {
        "colab": {
          "base_uri": "https://localhost:8080/",
          "height": 35
        },
        "id": "ZwgpBW_ez6Gu",
        "outputId": "7bc6ba2e-d146-461e-9b92-c05f28b94064"
      },
      "execution_count": null,
      "outputs": [
        {
          "output_type": "execute_result",
          "data": {
            "text/plain": [
              "'helloworld'"
            ],
            "application/vnd.google.colaboratory.intrinsic+json": {
              "type": "string"
            }
          },
          "metadata": {},
          "execution_count": 109
        }
      ]
    },
    {
      "cell_type": "code",
      "source": [
        "print('Hello World!')"
      ],
      "metadata": {
        "id": "aRYM_vjo0oJC",
        "outputId": "781233d7-5f96-4694-e3a3-ce127f0d75f6",
        "colab": {
          "base_uri": "https://localhost:8080/"
        }
      },
      "execution_count": null,
      "outputs": [
        {
          "output_type": "stream",
          "name": "stdout",
          "text": [
            "Hello World!\n"
          ]
        }
      ]
    },
    {
      "cell_type": "code",
      "source": [],
      "metadata": {
        "id": "mxD_B4UYfObp"
      },
      "execution_count": null,
      "outputs": []
    }
  ]
}